{
 "cells": [
  {
   "cell_type": "code",
   "execution_count": 44,
   "metadata": {},
   "outputs": [
    {
     "name": "stdout",
     "output_type": "stream",
     "text": [
      "rock, paper, scissors? :rock\n",
      "you win! rock beats scissors\n",
      "continue yes or no :no\n",
      "thanks for playing\n"
     ]
    }
   ],
   "source": [
    "from random import randint\n",
    "\n",
    "\n",
    "t = [\"rock\", \"paper\", \"scissors\"]\n",
    "\n",
    "computer = t[randint(0, 2)]\n",
    "user = False\n",
    "\n",
    "while user == False:\n",
    "    \n",
    "    while user == False:\n",
    "\n",
    "        user = input(\"rock, paper, scissors? :\")\n",
    "        if user == computer:\n",
    "            print(\"tie\")\n",
    "        elif user == \"rock\":\n",
    "            if computer == \"paper\":\n",
    "                print(\"you lose paper beats rock\")\n",
    "            else:\n",
    "                print(\"you win! rock beats scissors\")\n",
    "        elif user == \"paper\":\n",
    "            if computer == \"scissors\":\n",
    "                print(\"you lose scissors beats paper\")\n",
    "            else:\n",
    "                print(\"you win paper beats rock\")\n",
    "        elif user == \"scissors\":\n",
    "            if computer == \"rock\":\n",
    "                print(\"you lose rock beats scissors\")\n",
    "            else:\n",
    "                print(\"you win scissors beat paper\")\n",
    "        else:\n",
    "            print(\"check your spelling\")\n",
    "\n",
    "        user = input(\"continue yes or no :\")  \n",
    "        if user == \"yes\":\n",
    "            user = False\n",
    "        else:\n",
    "            print(\"thanks for playing\")\n",
    "        computer = t[randint(0, 2)]"
   ]
  },
  {
   "cell_type": "code",
   "execution_count": null,
   "metadata": {},
   "outputs": [],
   "source": []
  }
 ],
 "metadata": {
  "kernelspec": {
   "display_name": "Python 3",
   "language": "python",
   "name": "python3"
  },
  "language_info": {
   "codemirror_mode": {
    "name": "ipython",
    "version": 3
   },
   "file_extension": ".py",
   "mimetype": "text/x-python",
   "name": "python",
   "nbconvert_exporter": "python",
   "pygments_lexer": "ipython3",
   "version": "3.8.3"
  }
 },
 "nbformat": 4,
 "nbformat_minor": 4
}
